{
  "nbformat": 4,
  "nbformat_minor": 0,
  "metadata": {
    "colab": {
      "name": "random walking.ipynb",
      "provenance": [],
      "authorship_tag": "ABX9TyNkxv0kyI0Vc9vBoZAPzTYQ",
      "include_colab_link": true
    },
    "kernelspec": {
      "name": "python3",
      "display_name": "Python 3"
    },
    "language_info": {
      "name": "python"
    }
  },
  "cells": [
    {
      "cell_type": "markdown",
      "metadata": {
        "id": "view-in-github",
        "colab_type": "text"
      },
      "source": [
        "<a href=\"https://colab.research.google.com/github/richruizv/Ejercicio_CaminataAleatoria/blob/develop/random_walking.ipynb\" target=\"_parent\"><img src=\"https://colab.research.google.com/assets/colab-badge.svg\" alt=\"Open In Colab\"/></a>"
      ]
    },
    {
      "cell_type": "markdown",
      "metadata": {
        "id": "p0X1-kDLs5zx"
      },
      "source": [
        "#Random walking\n",
        "---\n",
        "In this exercise we will see how to simulate a random walking\n",
        "\n",
        "\n",
        "\n"
      ]
    },
    {
      "cell_type": "markdown",
      "metadata": {
        "id": "6YSz-YiZuFJ4"
      },
      "source": [
        "\n",
        "\n",
        "## 1. Simulate the bet\n",
        "Firt we are going to make the function that simulates the bet of a gambler\n",
        "\n",
        "\n"
      ]
    },
    {
      "cell_type": "code",
      "metadata": {
        "colab": {
          "base_uri": "https://localhost:8080/"
        },
        "id": "g-Q3wAg8uF6G",
        "outputId": "3f08166c-33e9-4009-f3a7-ac15c4990f39"
      },
      "source": [
        "#Importing libraries\n",
        "import numpy as np\n",
        "import random as rd\n",
        "\n",
        "def flip_coin(prob): #1: head #0 tails\n",
        "  return 1 if rd.random() < prob else 0\n",
        "\n",
        "\n",
        "#creating the function with a default probability, params: money of the gambler of probability of success\n",
        "def gamble_on_coin(money=20,prob=0.5):\n",
        "  \n",
        "  # The list that we save the results of each \n",
        "  list_money = [money]\n",
        "\n",
        "\n",
        "  while money < 30 and money > 0:\n",
        "    coin_flipped =  flip_coin(prob)\n",
        "    if coin_flipped == 1: #if head, gambler wins, otherwise he losses\n",
        "      money += 1\n",
        "    elif coin_flipped == 0:\n",
        "      money -= 1\n",
        "    list_money.append(money)\n",
        "    \n",
        "  if money == 30: \n",
        "    win = True\n",
        "  else:\n",
        "    win = False\n",
        "  return list_money,win\n",
        "\n",
        "print(gamble_on_coin())\n"
      ],
      "execution_count": 35,
      "outputs": [
        {
          "output_type": "stream",
          "name": "stdout",
          "text": [
            "([20, 19, 20, 19, 20, 19, 20, 21, 22, 21, 20, 21, 22, 21, 20, 21, 20, 19, 18, 19, 20, 21, 20, 19, 20, 21, 20, 21, 20, 21, 20, 19, 20, 21, 22, 21, 20, 21, 20, 21, 20, 19, 18, 17, 16, 15, 14, 13, 14, 13, 14, 13, 12, 11, 12, 11, 10, 9, 10, 11, 12, 13, 14, 15, 14, 15, 14, 15, 14, 15, 14, 13, 12, 11, 10, 11, 12, 11, 12, 13, 14, 13, 14, 13, 14, 13, 12, 13, 14, 13, 14, 15, 16, 17, 18, 19, 18, 17, 16, 17, 18, 19, 18, 19, 20, 21, 22, 23, 22, 23, 22, 23, 24, 25, 26, 27, 26, 25, 24, 23, 24, 25, 24, 23, 22, 23, 24, 25, 26, 25, 26, 25, 24, 25, 24, 23, 22, 21, 22, 21, 20, 19, 20, 19, 18, 17, 18, 19, 18, 17, 16, 17, 16, 15, 16, 15, 14, 15, 14, 13, 12, 11, 10, 9, 8, 9, 8, 7, 8, 9, 10, 9, 8, 9, 10, 11, 12, 11, 12, 13, 12, 13, 12, 11, 10, 9, 10, 11, 12, 11, 12, 13, 12, 13, 12, 11, 12, 11, 12, 13, 12, 13, 12, 11, 12, 13, 12, 11, 10, 9, 10, 11, 10, 9, 8, 7, 6, 5, 6, 5, 4, 5, 6, 5, 4, 5, 6, 5, 6, 5, 4, 3, 4, 3, 4, 3, 4, 5, 6, 7, 6, 7, 8, 7, 6, 5, 4, 5, 4, 5, 4, 3, 2, 3, 2, 3, 4, 5, 4, 5, 6, 5, 4, 5, 6, 7, 6, 7, 8, 9, 8, 7, 8, 7, 6, 5, 6, 5, 4, 3, 4, 3, 4, 5, 6, 5, 6, 7, 8, 7, 8, 7, 6, 5, 4, 5, 4, 5, 6, 7, 8, 9, 10, 9, 8, 7, 6, 7, 6, 5, 6, 5, 4, 3, 4, 3, 4, 3, 2, 3, 4, 5, 4, 3, 4, 3, 2, 3, 4, 3, 2, 3, 2, 1, 2, 3, 4, 3, 2, 3, 4, 5, 4, 3, 2, 1, 0], False)\n"
          ]
        }
      ]
    },
    {
      "cell_type": "markdown",
      "metadata": {
        "id": "Q_12ivh0ApHK"
      },
      "source": [
        "## 2. Graph the result\n",
        "Once created the function we use Matplotlib to graph the result of a set of trials"
      ]
    },
    {
      "cell_type": "code",
      "metadata": {
        "colab": {
          "base_uri": "https://localhost:8080/",
          "height": 295
        },
        "id": "7Po2ZqODAdqX",
        "outputId": "70b0398f-e717-4bb9-9e6d-97f9a702d402"
      },
      "source": [
        "import matplotlib.pyplot as plt\n",
        "\n",
        "\n",
        "#gambling with 25% of probability of wining\n",
        "gambles , result = gamble_on_coin(prob = 0.5)\n",
        "\n",
        "x = [i for i in range(len(gambles))]\n",
        "y = gambles\n",
        "\n",
        "plt.xlabel(\"Trials\")\n",
        "plt.ylabel(\"Money\")\n",
        "plt.title(\"Gambling with 50% of probability\")\n",
        "plt.plot(x,y,label = 'Gambles')\n",
        "plt.legend()\n",
        "plt.show()"
      ],
      "execution_count": 36,
      "outputs": [
        {
          "output_type": "display_data",
          "data": {
            "image/png": "[encoded data removed]",
            "text/plain": [
              "<Figure size 432x288 with 1 Axes>"
            ]
          },
          "metadata": {
            "needs_background": "light"
          }
        }
      ]
    },
    {
      "cell_type": "markdown",
      "metadata": {
        "id": "Q_cQTtEzF3Bm"
      },
      "source": [
        "## 3. Repeating the experiment multiple times\n",
        "We simulate this experiment multiple times, manipulate the coin toss's probability, and compare the results.\n",
        "\n",
        "Note: We can observe that even a slightly variation of probability leads to more posibilities of loss"
      ]
    },
    {
      "cell_type": "code",
      "metadata": {
        "colab": {
          "base_uri": "https://localhost:8080/"
        },
        "id": "-l3x4ySWF6e0",
        "outputId": "1370cbfe-73b2-4684-fe55-760f9b7d252b"
      },
      "source": [
        "import statistics as st\n",
        "\n",
        "# function to simulate a determined number of times the gamble\n",
        "def simulate_gamble(money= 20,size_experiment = 1000, prob=0.5):\n",
        "  success = fail = 0\n",
        "  media_success = media_fail = 0\n",
        "  list_success = []\n",
        "  list_fail = []\n",
        "  \n",
        "  for i in range(size_experiment):\n",
        "    gambles , result = gamble_on_coin(money, prob)\n",
        "    if (result == True):\n",
        "      success += 1\n",
        "      list_success.append(len(gambles))\n",
        "    else:\n",
        "      fail +=1\n",
        "      list_fail.append(len(gambles))\n",
        "  \n",
        "  \n",
        "  media_success = round(st.mean(list_success) if len(list_success)> 0 else 0,2)\n",
        "  media_fail = round(st.mean(list_fail) if len(list_fail) > 0 else 0,2)\n",
        "  \n",
        "  return success,media_success,fail,media_fail\n",
        "\n",
        "size_experiment = 10000\n",
        "money = 20\n",
        "\n",
        "prob1 = simulate_gamble(money,size_experiment,prob=0.51)\n",
        "prob2 = simulate_gamble(money,size_experiment,prob=0.5)\n",
        "prob3 = simulate_gamble(money,size_experiment,prob=0.49)\n",
        "\n",
        "print(f\"Number of times that our gambler got broke with 49% probability of loss: {prob1[2]} out of {size_experiment}  ( {round(prob1[2]/size_experiment*100,2)}% )\")\n",
        "print(f\"Number of times that our gambler got broke with 50% probability of loss: {prob2[2]} out of {size_experiment} ( {round(prob2[2]/size_experiment*100,2)}% )\")\n",
        "print(f\"Number of times that our gambler got broke with 51% probability of loss: {prob3[2]} out of {size_experiment} ( {round(prob3[2]/size_experiment*100,2)}% )\")\n",
        "\n",
        "\n",
        "  \n",
        "\n"
      ],
      "execution_count": 31,
      "outputs": [
        {
          "output_type": "stream",
          "name": "stdout",
          "text": [
            "Number of times that our gambler got broke with 49% probability of loss: 2170 out of 10000  ( 21.7% )\n",
            "Number of times that our gambler got broke with 50% probability of loss: 3336 out of 10000 ( 33.36% )\n",
            "Number of times that our gambler got broke with 51% probability of loss: 4640 out of 10000 ( 46.4% )\n"
          ]
        }
      ]
    },
    {
      "cell_type": "markdown",
      "metadata": {
        "id": "ys6v8VVmosy4"
      },
      "source": [
        "## Bonus: Expanding the code by manipulating X\n",
        "In our exercise we can define \"money\" as a variable  and we can test the function now giving different values to \"money\""
      ]
    },
    {
      "cell_type": "code",
      "metadata": {
        "colab": {
          "base_uri": "https://localhost:8080/"
        },
        "id": "FanFXSjopORm",
        "outputId": "bc811f94-8146-4395-eb0b-a520c0fa808d"
      },
      "source": [
        "\n",
        "size_experiment = 10000\n",
        "prob=0.5\n",
        "\n",
        "prob1 = simulate_gamble(19,size_experiment,prob)\n",
        "prob2 = simulate_gamble(20,size_experiment,prob)\n",
        "prob3 = simulate_gamble(21,size_experiment,prob)\n",
        "\n",
        "print(f\"Number of times that our gambler got broke with $19: {prob1[2]} out of {size_experiment} ( {round(prob1[2]/size_experiment*100,2)}% )\")\n",
        "print(f\"Number of times that our gambler got broke with $20: {prob2[2]} out of {size_experiment} ( {round(prob2[2]/size_experiment*100,2)}% )\")\n",
        "print(f\"Number of times that our gambler got broke with $21: {prob3[2]} out of {size_experiment} ( {round(prob3[2]/size_experiment*100,2)}% )\")\n",
        "\n"
      ],
      "execution_count": 34,
      "outputs": [
        {
          "output_type": "stream",
          "name": "stdout",
          "text": [
            "Number of times that our gambler got broke with $19: 3694 out of 10000 ( 36.94% )\n",
            "Number of times that our gambler got broke with $20: 3243 out of 10000 ( 32.43% )\n",
            "Number of times that our gambler got broke with $21: 3057 out of 10000 ( 30.57% )\n"
          ]
        }
      ]
    },
    {
      "cell_type": "markdown",
      "metadata": {
        "id": "2uLNCQLlqMO8"
      },
      "source": [
        "# Conclusions\n",
        "\n",
        "After a lot of testing we can conclude the following:\n",
        "\n",
        "1. The slightly changes of probability leads to big variation of success\n",
        "2. The slightly changes of variation in the position X also leads to big variation of success\n",
        "3. If X is near to one of our limits, there is higher probability of reach the limit."
      ]
    },
    {
      "cell_type": "code",
      "metadata": {
        "id": "3UdBZoRjqRlE"
      },
      "source": [
        ""
      ],
      "execution_count": null,
      "outputs": []
    }
  ]
}