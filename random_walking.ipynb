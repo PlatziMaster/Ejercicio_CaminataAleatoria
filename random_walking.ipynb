{
  "nbformat": 4,
  "nbformat_minor": 0,
  "metadata": {
    "colab": {
      "name": "random walking.ipynb",
      "provenance": [],
      "toc_visible": true,
      "authorship_tag": "ABX9TyNgzhBUPmDgRsnII4O8q3Pe",
      "include_colab_link": true
    },
    "kernelspec": {
      "name": "python3",
      "display_name": "Python 3"
    },
    "language_info": {
      "name": "python"
    }
  },
  "cells": [
    {
      "cell_type": "markdown",
      "metadata": {
        "id": "view-in-github",
        "colab_type": "text"
      },
      "source": [
        "<a href=\"https://colab.research.google.com/github/richruizv/Ejercicio_CaminataAleatoria/blob/develop/random_walking.ipynb\" target=\"_parent\"><img src=\"https://colab.research.google.com/assets/colab-badge.svg\" alt=\"Open In Colab\"/></a>"
      ]
    },
    {
      "cell_type": "code",
      "metadata": {
        "id": "WFBvHHVjs47-"
      },
      "source": [
        ""
      ],
      "execution_count": null,
      "outputs": []
    },
    {
      "cell_type": "markdown",
      "metadata": {
        "id": "p0X1-kDLs5zx"
      },
      "source": [
        "#Random walking\n",
        "---\n",
        "In this exercise we will see how to simulate a random walking\n",
        "\n",
        "\n",
        "\n"
      ]
    },
    {
      "cell_type": "markdown",
      "metadata": {
        "id": "6YSz-YiZuFJ4"
      },
      "source": [
        "\n",
        "\n",
        "## 1. Simulate the bet\n",
        "Firt we are going to make the function that simulates the bet of a gambler\n",
        "\n",
        "\n"
      ]
    },
    {
      "cell_type": "code",
      "metadata": {
        "colab": {
          "base_uri": "https://localhost:8080/"
        },
        "id": "g-Q3wAg8uF6G",
        "outputId": "4543a89c-7de9-4fd7-b10a-0bc01b450b2c"
      },
      "source": [
        "#Importing libraries\n",
        "import numpy as np\n",
        "import random as rd\n",
        "\n",
        "def flip_coin(prob): #1: head #0 tails\n",
        "  return 1 if rd.random() < prob else 0\n",
        "\n",
        "\n",
        "#creating the function with a default probability\n",
        "def gamble_on_coin(prob=0.5):\n",
        "  # The money of the gambler\n",
        "  money = 10\n",
        "  # The list that we save the results of each \n",
        "  list_money = [money]\n",
        "\n",
        "\n",
        "  while money < 30 and money > 0:\n",
        "    \n",
        "    if flip_coin(prob) == 1: #if head, gambler wins, otherwise he losses\n",
        "      money += 1\n",
        "    elif flip_coin(prob) == 0:\n",
        "      money -= 1\n",
        "    list_money.append(money)\n",
        "    \n",
        "  if money == 30: \n",
        "    win = True\n",
        "  else:\n",
        "    win = False\n",
        "  return list_money,win\n",
        "\n",
        "print(gamble_on_coin())\n"
      ],
      "execution_count": 274,
      "outputs": [
        {
          "output_type": "stream",
          "name": "stdout",
          "text": [
            "([10, 11, 12, 13, 12, 12, 13, 14, 14, 14, 15, 15, 16, 15, 15, 16, 16, 17, 16, 17, 18, 17, 16, 16, 15, 15, 15, 16, 17, 16, 15, 15, 16, 17, 18, 19, 19, 18, 19, 18, 18, 19, 19, 19, 19, 18, 19, 19, 18, 19, 18, 19, 20, 21, 20, 21, 21, 22, 23, 24, 23, 24, 24, 25, 25, 24, 23, 23, 22, 22, 22, 23, 24, 24, 25, 26, 26, 27, 28, 29, 30], True)\n"
          ]
        }
      ]
    },
    {
      "cell_type": "markdown",
      "metadata": {
        "id": "Q_12ivh0ApHK"
      },
      "source": [
        "## 2. Graph the result\n",
        "Once created the function we use Matplotlib to graph the result of a set of trials"
      ]
    },
    {
      "cell_type": "code",
      "metadata": {
        "colab": {
          "base_uri": "https://localhost:8080/",
          "height": 295
        },
        "id": "7Po2ZqODAdqX",
        "outputId": "84d6c942-cc4c-4f5c-a0ca-65b133417787"
      },
      "source": [
        "import matplotlib.pyplot as plt\n",
        "\n",
        "\n",
        "#gambling with 25% of probability of wining\n",
        "gambles , result = gamble_on_coin(0.5)\n",
        "\n",
        "x = [i for i in range(len(gambles))]\n",
        "y = gambles\n",
        "\n",
        "plt.xlabel(\"Trials\")\n",
        "plt.ylabel(\"Money\")\n",
        "plt.title(\"Gambling with 50% of probability\")\n",
        "plt.plot(x,y,label = 'Gambles')\n",
        "plt.legend()\n",
        "plt.show()"
      ],
      "execution_count": 214,
      "outputs": [
        {
          "output_type": "display_data",
          "data": {
            "image/png": "[encoded data removed]",
            "text/plain": [
              "<Figure size 432x288 with 1 Axes>"
            ]
          },
          "metadata": {
            "needs_background": "light"
          }
        }
      ]
    },
    {
      "cell_type": "markdown",
      "metadata": {
        "id": "Q_cQTtEzF3Bm"
      },
      "source": [
        "## 3. Repeating the experiment multiple times\n",
        "We simulate this experiment multiple times, manipulate the coin toss's probability, and compare the results."
      ]
    },
    {
      "cell_type": "code",
      "metadata": {
        "colab": {
          "base_uri": "https://localhost:8080/"
        },
        "id": "-l3x4ySWF6e0",
        "outputId": "c079e3f4-0377-4d49-925a-04018ee1a690"
      },
      "source": [
        "import statistics as st\n",
        "\n",
        "# function to simulate a determined number of times the gamble\n",
        "def simulate_gamble(size_experiment = 1000, prob=0.5):\n",
        "  success = fail = 0\n",
        "  media_success = media_fail = 0\n",
        "  list_success = []\n",
        "  list_fail = []\n",
        "  \n",
        "  for i in range(size_experiment):\n",
        "    gambles , result = gamble_on_coin(prob)\n",
        "    if (result == True):\n",
        "      success += 1\n",
        "      list_success.append(len(gambles))\n",
        "    else:\n",
        "      fail +=1\n",
        "      list_fail.append(len(gambles))\n",
        "  \n",
        "  \n",
        "  media_success = round(st.mean(list_success),2)\n",
        "  media_fail = round(st.mean(list_fail) if len(list_fail) > 0 else 0,2)\n",
        "  \n",
        "  return success,media_success,fail,media_fail\n",
        "\n",
        "prob50 = simulate_gamble(1000,prob=0.5)\n",
        "prob51 = simulate_gamble(1000,prob=(1-0.51))\n",
        "prob55 = simulate_gamble(1000,prob=(1-0.55))\n",
        "\n",
        "\n",
        "print(f\"Number of times that get 0 with 50% probability of loss: {prob50[2]}\")\n",
        "print(f\"Number of times that get 0 with 51% probability of loss: {prob51[2]}\")\n",
        "print(f\"Number of times that get 0 with 55% probability of loss: {prob55[2]}\")\n",
        "\n",
        "\n",
        "  \n",
        "\n"
      ],
      "execution_count": 281,
      "outputs": [
        {
          "output_type": "stream",
          "name": "stdout",
          "text": [
            "Number of times that get 0 with 50% probability of loss: 0\n",
            "Number of times that get 0 with 51% probability of loss: 0\n",
            "Number of times that get 0 with 55% probability of loss: 26\n"
          ]
        }
      ]
    }
  ]
}